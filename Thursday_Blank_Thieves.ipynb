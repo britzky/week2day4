{
 "cells": [
  {
   "cell_type": "markdown",
   "metadata": {},
   "source": [
    "# Object-Oriented-Programming (OOP)"
   ]
  },
  {
   "cell_type": "markdown",
   "metadata": {},
   "source": [
    "## Tasks Today:\n",
    "\n",
    "   \n",
    "\n",
    "1) <b>Creating a Class (Initializing/Declaring)</b> <br>\n",
    "2) <b>Using a Class (Instantiating)</b> <br>\n",
    " &nbsp;&nbsp;&nbsp;&nbsp; a) Creating One Instance <br>\n",
    " &nbsp;&nbsp;&nbsp;&nbsp; b) Creating Multiple Instances <br>\n",
    " &nbsp;&nbsp;&nbsp;&nbsp; c) In-Class Exercise #1 - Create a Class 'Car' and instantiate three different makes of cars <br>\n",
    "3) <b>The \\__init\\__() Method</b> <br>\n",
    " &nbsp;&nbsp;&nbsp;&nbsp; a) The 'self' Attribute <br>\n",
    "4) <b>Class Attributes</b> <br>\n",
    " &nbsp;&nbsp;&nbsp;&nbsp; a) Initializing Attributes <br>\n",
    " &nbsp;&nbsp;&nbsp;&nbsp; b) Setting an Attribute Outside of the \\__init\\__() Method <br>\n",
    " &nbsp;&nbsp;&nbsp;&nbsp; c) Setting Defaults for Attributes <br>\n",
    " &nbsp;&nbsp;&nbsp;&nbsp; d) Accessing Class Attributes <br>\n",
    " &nbsp;&nbsp;&nbsp;&nbsp; e) Changing Class Attributes <br>\n",
    " &nbsp;&nbsp;&nbsp;&nbsp; f) In-Class Exercise #2 - Add a color and wheels attribute to your 'Car' class <br>\n",
    "5) <b>Class Methods</b> <br>\n",
    " &nbsp;&nbsp;&nbsp;&nbsp; a) Creating <br>\n",
    " &nbsp;&nbsp;&nbsp;&nbsp; b) Calling <br>\n",
    " &nbsp;&nbsp;&nbsp;&nbsp; c) Modifying an Attribute's Value Through a Method <br>\n",
    " &nbsp;&nbsp;&nbsp;&nbsp; d) Incrementing an Attribute's Value Through a Method <br>\n",
    " &nbsp;&nbsp;&nbsp;&nbsp; e) In-Class Exercise #3 - Add a method that prints the cars color and wheel number, then call them <br>\n",
    "6) <b>Inheritance</b> <br>\n",
    " &nbsp;&nbsp;&nbsp;&nbsp; a) Syntax for Inheriting from a Parent Class <br>\n",
    " &nbsp;&nbsp;&nbsp;&nbsp; b) The \\__init\\__() Method for a Child Class (super()) <br>\n",
    " &nbsp;&nbsp;&nbsp;&nbsp; c) Defining Attributes and Methods for the Child Class <br>\n",
    " &nbsp;&nbsp;&nbsp;&nbsp; d) Method Overriding <br>\n",
    " &nbsp;&nbsp;&nbsp;&nbsp; e) In-Class Exercise #4 - Create a class 'Ford' that inherits from 'Car' class and initialize it as a Blue Ford Explorer with 4 wheels using the super() method <br>\n",
    "7) <b>Classes as Attributes</b> <br>\n",
    "8) <b>Exercises</b> <br>\n",
    " &nbsp;&nbsp;&nbsp;&nbsp; a) Exercise #1 - Turn the shopping cart program from yesterday into an object-oriented program <br>"
   ]
  },
  {
   "cell_type": "markdown",
   "metadata": {},
   "source": [
    "## Creating a Class (Initializing/Declaring)\n",
    "<p>When creating a class, function, or even a variable you are initializing that object. Initializing and Declaring occur at the same time in Python, whereas in lower level languages you have to declare an object before initializing it. This is the first step in the process of using a class.</p>"
   ]
  },
  {
   "cell_type": "code",
   "execution_count": 1,
   "metadata": {},
   "outputs": [],
   "source": [
    "class Car():\n",
    "    wheels = 4\n",
    "    color = 'blue'\n",
    "    \n"
   ]
  },
  {
   "cell_type": "markdown",
   "metadata": {},
   "source": [
    "## Using a Class (Instantiating)\n",
    "<p>The process of creating a class is called <i>Instantiating</i>. Each time you create a variable of that type of class, it is referred to as an <i>Instance</i> of that class. This is the second step in the process of using a class.</p>"
   ]
  },
  {
   "cell_type": "markdown",
   "metadata": {},
   "source": [
    "##### Creating One Instance"
   ]
  },
  {
   "cell_type": "code",
   "execution_count": 3,
   "metadata": {},
   "outputs": [
    {
     "data": {
      "text/plain": [
       "'blue'"
      ]
     },
     "execution_count": 3,
     "metadata": {},
     "output_type": "execute_result"
    }
   ],
   "source": [
    "ford = Car()\n",
    "\n",
    "ford.wheels\n",
    "ford.color"
   ]
  },
  {
   "cell_type": "markdown",
   "metadata": {},
   "source": [
    "##### Creating Multiple Instances"
   ]
  },
  {
   "cell_type": "code",
   "execution_count": null,
   "metadata": {},
   "outputs": [],
   "source": [
    "nissan = Car()\n",
    "chevy = Car()\n"
   ]
  },
  {
   "cell_type": "markdown",
   "metadata": {},
   "source": [
    "##### In-Class Exercise #1 - Create a Class 'Car' and Instantiate three different makes of cars"
   ]
  },
  {
   "cell_type": "code",
   "execution_count": 5,
   "metadata": {},
   "outputs": [
    {
     "data": {
      "text/plain": [
       "4"
      ]
     },
     "execution_count": 5,
     "metadata": {},
     "output_type": "execute_result"
    }
   ],
   "source": [
    "class Car:\n",
    "    wheels = 10\n",
    "    color = 'red'\n",
    "jeep = Car()\n",
    "toyota = Car()\n",
    "kia = Car()\n",
    "\n",
    "jeep.wheels"
   ]
  },
  {
   "cell_type": "markdown",
   "metadata": {},
   "source": [
    "## The \\__init\\__() Method <br>\n",
    "<p>This method is used in almost every created class, and called only once upon the creation of the class instance. This method will initialize all variables needed for the object.</p>"
   ]
  },
  {
   "cell_type": "code",
   "execution_count": 10,
   "metadata": {},
   "outputs": [],
   "source": [
    "class Car():\n",
    "    wheels = 4 # class attribute\n",
    "    def __init__(self, make, model, color): #instance attributes\n",
    "        self.make = make\n",
    "        self.model = model\n",
    "        self.color = color\n",
    "        \n",
    "nissan = Car('nissan', '370z', 'black')\n",
    "nissan.make\n",
    "nissan.wheels\n",
    "ford = Car('ford', 'mustang', 'red')"
   ]
  },
  {
   "cell_type": "markdown",
   "metadata": {},
   "source": [
    "##### The 'self' Attribute <br>\n",
    "<p>This attribute is required to keep track of specific instance's attributes. Without the self attribute, the program would not know how to reference or keep track of an instance's attributes.</p>"
   ]
  },
  {
   "cell_type": "code",
   "execution_count": null,
   "metadata": {},
   "outputs": [],
   "source": [
    "# see above"
   ]
  },
  {
   "cell_type": "markdown",
   "metadata": {},
   "source": [
    "## Class Attributes <br>\n",
    "<p>While variables are inside of a class, they are referred to as attributes and not variables. When someone says 'attribute' you know they're speaking about a class. Attributes can be initialized through the init method, or outside of it.</p>"
   ]
  },
  {
   "cell_type": "markdown",
   "metadata": {},
   "source": [
    "##### Initializing Attributes"
   ]
  },
  {
   "cell_type": "code",
   "execution_count": null,
   "metadata": {},
   "outputs": [],
   "source": [
    "# see above"
   ]
  },
  {
   "cell_type": "markdown",
   "metadata": {},
   "source": [
    "##### Accessing Class Attributes"
   ]
  },
  {
   "cell_type": "code",
   "execution_count": null,
   "metadata": {
    "scrolled": true
   },
   "outputs": [],
   "source": [
    "# See Above"
   ]
  },
  {
   "cell_type": "markdown",
   "metadata": {},
   "source": [
    "##### Setting Defaults for Attributes"
   ]
  },
  {
   "cell_type": "code",
   "execution_count": 14,
   "metadata": {},
   "outputs": [
    {
     "data": {
      "text/plain": [
       "{'city': 'New England',\n",
       " 'team': 'Patriots',\n",
       " 'colors': 'Red white and blue',\n",
       " 'country': 'america'}"
      ]
     },
     "execution_count": 14,
     "metadata": {},
     "output_type": "execute_result"
    }
   ],
   "source": [
    "class NflTeams():\n",
    "    def __init__(self, city, team, colors, country='america' ):\n",
    "        self.city = city\n",
    "        self.team = team\n",
    "        self.colors = colors\n",
    "        self.country = country\n",
    "    def printInfo(self):\n",
    "        return f'The city {self.city} has the NFL team {self.team} and their jersey color is {self.colors}'\n",
    "patriots = NflTeams('New England', 'Patriots', 'Red white and blue')\n",
    "patriots.printInfo()\n",
    "patriots.__dict__"
   ]
  },
  {
   "attachments": {},
   "cell_type": "markdown",
   "metadata": {},
   "source": [
    "##### Changing Instance Attributes <br>\n",
    "<p>Keep in mind there are global class attributes and then there are attributes only available to each class instance which won't effect other classes.</p>"
   ]
  },
  {
   "cell_type": "code",
   "execution_count": null,
   "metadata": {},
   "outputs": [],
   "source": [
    "# see above"
   ]
  },
  {
   "cell_type": "markdown",
   "metadata": {},
   "source": [
    "##### In-Class Exercise #2 - Add a doors and seats attribute to your 'Car' class then print out two different instances with different doors and seats"
   ]
  },
  {
   "cell_type": "code",
   "execution_count": 17,
   "metadata": {},
   "outputs": [],
   "source": [
    "class Car():\n",
    "    def __init__(self, wheels, color, doors, seats):\n",
    "       self.wheels = wheels\n",
    "       self.color = color\n",
    "       self.door = doors\n",
    "       self.seats = seats\n",
    "    def printInfo(self):\n",
    "        return f'my car has {self.wheels}'\n",
    "        \n",
    "jeep = Car(10, 'red', 7, 15)\n",
    "toyota = Car(3, 'green', 1, 4)\n",
    "ford = Car(2, 'red', 6, 3,)\n"
   ]
  },
  {
   "cell_type": "markdown",
   "metadata": {},
   "source": [
    "## Class Methods <br>\n",
    "<p>While inside of a class, functions are referred to as 'methods'. If you hear someone mention methods, they're speaking about classes. Methods are essentially functions, but only callable on the instances of a class.</p>"
   ]
  },
  {
   "cell_type": "markdown",
   "metadata": {},
   "source": [
    "##### Creating"
   ]
  },
  {
   "cell_type": "code",
   "execution_count": 6,
   "metadata": {},
   "outputs": [
    {
     "name": "stdout",
     "output_type": "stream",
     "text": [
      "john clapper has been added to the LA Lakers\n",
      "Your current roster is{'john clapper': 33}\n",
      "santa claus has been added to the LA Lakers\n",
      "Your current roster is{'john clapper': 33, 'santa claus': 69}\n",
      "the rock has been added to the LA Lakers\n",
      "Your current roster is{'john clapper': 33, 'santa claus': 69, 'the rock': 420}\n",
      "You currently have 3 players on your team!\n",
      "---------- Current Roster for the LA Lakers ---------\n",
      "john clapper 33\n",
      "santa claus 69\n",
      "the rock 420\n",
      "You currently have 3 players on your team!\n",
      "---------- Current Roster for the LA Lakers ---------\n",
      "john clapper 33\n",
      "santa claus 69\n",
      "the rock 420\n",
      "Good luck this season!\n"
     ]
    }
   ],
   "source": [
    "class Roster():\n",
    "    def __init__(self, city, team_name, country='United States'):\n",
    "        self.city = city\n",
    "        self.team_name = team_name\n",
    "        self.country = country\n",
    "        self.depth_chart = {}\n",
    "        self.number_of_players = 0\n",
    "        \n",
    "    # add player\n",
    "    def addPlayer(self):\n",
    "        name = input(\"What is the player\\'s name you would like to add? \")\n",
    "        number = int(input(f'What jersey number will {name} have? '))\n",
    "        self.depth_chart[name] = number\n",
    "        self.number_of_players += 1\n",
    "        print(f'{name} has been added to the {self.city} {self.team_name}')\n",
    "        print(f'Your current roster is{self.depth_chart}')\n",
    "    # delete player\n",
    "    def deletePlayer(self):\n",
    "        name = input (\"What player would you like to delete? \")\n",
    "        if name in self.depth_chart:\n",
    "            print(f'{name} has been removed from your team')\n",
    "            del self.depth_chart[name] # how to delete a key from a dictionary\n",
    "            self.number_of_players -= 1\n",
    "        else:\n",
    "            print('f{name} is not on your team')        \n",
    "    # show players\n",
    "    def showPlayer(self):\n",
    "        print(f'You currently have {self.number_of_players} players on your team!')\n",
    "        print(f'---------- Current Roster for the {self.city} {self.team_name} ---------')\n",
    "        for key, value in self.depth_chart.items():\n",
    "            print(key,value)\n",
    "            \n",
    "    # runner method\n",
    "    def runner(self):\n",
    "        while True:\n",
    "            user_choice = input('What would you like to do? (add, show, delete)(type \"q\" to quit)').lower()\n",
    "            if user_choice == 'q':\n",
    "                self.showPlayer()\n",
    "                print(\"Good luck this season!\")\n",
    "                break\n",
    "            elif user_choice == 'add':\n",
    "                self.addPlayer()\n",
    "            elif user_choice == 'show':\n",
    "                self.showPlayer()\n",
    "            elif user_choice == 'delete':\n",
    "                self.deletePlayer()\n",
    "            else:\n",
    "                print('Invalid option, please choose a valid option')\n",
    "    \n",
    "team1 = Roster('LA', 'Lakers')\n",
    "\n",
    "team1.runner()"
   ]
  },
  {
   "cell_type": "markdown",
   "metadata": {},
   "source": [
    "##### Calling"
   ]
  },
  {
   "cell_type": "code",
   "execution_count": null,
   "metadata": {},
   "outputs": [],
   "source": [
    "# See Above"
   ]
  },
  {
   "cell_type": "markdown",
   "metadata": {},
   "source": [
    "##### Modifying an Attribute's Value Through a Method"
   ]
  },
  {
   "cell_type": "code",
   "execution_count": null,
   "metadata": {},
   "outputs": [],
   "source": [
    "# see above\n",
    "# modifying the self.depth_chart attribute"
   ]
  },
  {
   "cell_type": "markdown",
   "metadata": {},
   "source": [
    "##### Incrementing an Attribute's Value Through a Method"
   ]
  },
  {
   "cell_type": "code",
   "execution_count": null,
   "metadata": {},
   "outputs": [],
   "source": [
    "# see above\n",
    "# incrementing the self.number_of_players attribute"
   ]
  },
  {
   "cell_type": "markdown",
   "metadata": {},
   "source": [
    "## Inheritance <br>\n",
    "<p>You can create a child-parent relationship between two classes by using inheritance. What this allows you to do is have overriding methods, but also inherit traits from the parent class. Think of it as an actual parent and child, the child will inherit the parent's genes, as will the classes in OOP</p>"
   ]
  },
  {
   "cell_type": "markdown",
   "metadata": {},
   "source": [
    "##### Syntax for Inheriting from a Parent Class"
   ]
  },
  {
   "cell_type": "code",
   "execution_count": 8,
   "metadata": {},
   "outputs": [
    {
     "data": {
      "text/plain": [
       "'This is a big sized blue-nose pitbull with 4 and its name is Rhiannon'"
      ]
     },
     "execution_count": 8,
     "metadata": {},
     "output_type": "execute_result"
    }
   ],
   "source": [
    "class Animal(): # parent class\n",
    "    def __init__(self, name, species, legs=4):\n",
    "        self.name = name\n",
    "        self.species = species\n",
    "        self.legs = legs\n",
    "    def printInfo(self):\n",
    "        return 'this is coming from the parnent class' \n",
    "\n",
    "class Dog(Animal):\n",
    "    def __init__(self, name, dog_type, size, legs=4):\n",
    "        super().__init__(name, legs)\n",
    "        self.dog_type = dog_type\n",
    "        self.size = size\n",
    "    def printInfoChild(self):\n",
    "        return f'This is a {self.size} sized {self.dog_type} with {self.legs} and its name is {self.name}'\n",
    "\n",
    "dylans_dog = Dog('Rhiannon', 'blue-nose pitbull', 'big')\n",
    "dylans_dog.printInfoChild()\n",
    "dylans_dog.printIndo()\n"
   ]
  },
  {
   "cell_type": "markdown",
   "metadata": {},
   "source": [
    "##### The \\__init\\__() Method for a Child Class - super()"
   ]
  },
  {
   "cell_type": "code",
   "execution_count": null,
   "metadata": {
    "scrolled": true
   },
   "outputs": [],
   "source": [
    "# see above"
   ]
  },
  {
   "cell_type": "markdown",
   "metadata": {},
   "source": [
    "##### Defining Attributes and Methods for the Child Class"
   ]
  },
  {
   "cell_type": "code",
   "execution_count": null,
   "metadata": {},
   "outputs": [],
   "source": [
    "# See Above"
   ]
  },
  {
   "cell_type": "markdown",
   "metadata": {},
   "source": [
    "## Classes as Attributes <br>\n",
    "<p>Classes can also be used as attributes within another class. This is useful in situations where you need to keep variables locally stored, instead of globally stored.</p>"
   ]
  },
  {
   "cell_type": "code",
   "execution_count": 11,
   "metadata": {},
   "outputs": [
    {
     "data": {
      "text/plain": [
       "'V6'"
      ]
     },
     "execution_count": 11,
     "metadata": {},
     "output_type": "execute_result"
    }
   ],
   "source": [
    "class Engine(): # parent class\n",
    "    def __init__(self, engine):\n",
    "        self.engine = engine\n",
    "\n",
    "class Car(Engine):\n",
    "    def __init__(self, engine, make, model, year):\n",
    "        super().__init__(engine)\n",
    "        self.make = make\n",
    "        self.model = model\n",
    "        self.year = year\n",
    "    \n",
    "    def printInfo(self):\n",
    "        return f'This is a {self.year} {self.make} {self.model}'\n",
    "\n",
    "v8_engine = Engine('V')\n",
    "v6_engine = Engine('V6')\n",
    "\n",
    "masons_car = Car(v6_engine.engine, 'toyota', 'tacoma', 2023)\n",
    "kaylas_car = Car(v6_engine.engine, 'nissan', 'frontier', 2023)\n",
    "dylans_car = Car(v8_engine.engine, 'ford', 'bronco', 1965)\n",
    "\n",
    "masons_car.printInfo()"
   ]
  },
  {
   "cell_type": "markdown",
   "metadata": {},
   "source": [
    "# Exercises"
   ]
  },
  {
   "cell_type": "markdown",
   "metadata": {},
   "source": [
    "### Exercise 1 - Turn the shopping cart program from yesterday into an object-oriented program\n",
    "\n",
    "The comments in the cell below are there as a guide for thinking about the problem. However, if you feel a different way is best for you and your own thought process, please do what feels best for you by all means."
   ]
  },
  {
   "cell_type": "code",
   "execution_count": 18,
   "metadata": {},
   "outputs": [
    {
     "name": "stdout",
     "output_type": "stream",
     "text": [
      "Please enter a valid option\n",
      "I'll get milk from the dairy aisle\n",
      "Your current cart has {'milk': 'dairy'}\n",
      "I'll get celery from the produce aisle\n",
      "Your current cart has {'milk': 'dairy', 'celery': 'produce'}\n",
      "You currently have 2 items in your cart.\n",
      "-------- Shopping Cart --------\n",
      "milk dairy\n",
      "celery produce\n",
      "milk has been removed from your cart\n",
      "You currently have 1 items in your cart.\n",
      "-------- Shopping Cart --------\n",
      "celery produce\n",
      "You currently have 1 items in your cart.\n",
      "-------- Shopping Cart --------\n",
      "celery produce\n",
      "See ya next time!\n"
     ]
    }
   ],
   "source": [
    "# Create a class called cart that retains items and has methods to add, remove, and show\n",
    "\n",
    "class Cart():\n",
    "    def __init__(self, store):\n",
    "        self.store = store\n",
    "        self.shopping_cart = {}\n",
    "        self.number_of_items = 0\n",
    "    \n",
    "    # add item to cart\n",
    "    def addItem(self):\n",
    "        product = input('What do you want to add? ')\n",
    "        aisle = input('What section is it in? ')\n",
    "        self.shopping_cart[product] = aisle\n",
    "        self.number_of_items += 1\n",
    "        print(f'I\\'ll get {product} from the {aisle} aisle')\n",
    "        print(f'Your current cart has {self.shopping_cart}')\n",
    "    # remove item from cart\n",
    "    def removeItem(self):\n",
    "        product = input('What item do you want to remove? ')\n",
    "        if product in self.shopping_cart:\n",
    "            print(f'{product} has been removed from your cart')\n",
    "            del self.shopping_cart[product]\n",
    "            self.number_of_items -= 1\n",
    "        else: print(f'{product} is not in your cart')\n",
    "    # show items\n",
    "    def showCart(self):\n",
    "        print(f'You currently have {self.number_of_items} items in your cart.') \n",
    "        print(f'-------- Shopping Cart --------')\n",
    "        for key, value in self.shopping_cart.items():\n",
    "            print(key, value)\n",
    "            \n",
    "    # runner method\n",
    "    def runner(self):\n",
    "        while True:\n",
    "            choice = input('What would you like to do? (add, show, remove, or \"q\" to quit)').lower()\n",
    "            if choice == 'q':\n",
    "                self.showCart()\n",
    "                print('See ya next time!')\n",
    "                break\n",
    "            elif choice == 'add':\n",
    "                self.addItem()\n",
    "            elif choice == 'show':\n",
    "                self.showCart()\n",
    "            elif choice == 'remove':\n",
    "                self.removeItem()\n",
    "            else:\n",
    "                print('Please enter a valid option')\n",
    "         \n",
    "shopping_cart = Cart('Grocery store') \n",
    "shopping_cart.runner()\n"
   ]
  },
  {
   "cell_type": "markdown",
   "metadata": {},
   "source": [
    "### Exercise 2 - Write a Python class which has two methods get_String and print_String. get_String accept a string from the user and print_String print the string in upper case"
   ]
  },
  {
   "cell_type": "code",
   "execution_count": 17,
   "metadata": {},
   "outputs": [
    {
     "data": {
      "text/plain": [
       "'CHRISTMAS is your favorite holiday'"
      ]
     },
     "execution_count": 17,
     "metadata": {},
     "output_type": "execute_result"
    }
   ],
   "source": [
    "class StringStuff():\n",
    "    def __init__(self):\n",
    "        #create an empty string so I have something to append to in my method\n",
    "        self.holiday = ''\n",
    "    def getString(self):\n",
    "      fav_holiday = input('Tell me your favorite holiday. ').upper()\n",
    "      # put user input in the empty string\n",
    "      self.holiday = fav_holiday\n",
    "    \n",
    "    def printString(self):\n",
    "        # return an f string that has the user input in all captial letters\n",
    "        return f'{self.holiday} is your favorite holiday'\n",
    "\n",
    "user_input = StringStuff()     \n",
    "user_input.getString()\n",
    "user_input.printString()\n",
    "        \n",
    "        "
   ]
  }
 ],
 "metadata": {
  "kernelspec": {
   "display_name": "Python 3",
   "language": "python",
   "name": "python3"
  },
  "language_info": {
   "codemirror_mode": {
    "name": "ipython",
    "version": 3
   },
   "file_extension": ".py",
   "mimetype": "text/x-python",
   "name": "python",
   "nbconvert_exporter": "python",
   "pygments_lexer": "ipython3",
   "version": "3.10.6"
  },
  "vscode": {
   "interpreter": {
    "hash": "916dbcbb3f70747c44a77c7bcd40155683ae19c65e1c03b4aa3499c5328201f1"
   }
  }
 },
 "nbformat": 4,
 "nbformat_minor": 2
}
